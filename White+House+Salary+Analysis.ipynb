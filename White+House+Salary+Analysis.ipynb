{
 "cells": [
  {
   "cell_type": "markdown",
   "metadata": {},
   "source": [
    "# Reading data into pandas"
   ]
  },
  {
   "cell_type": "code",
   "execution_count": 46,
   "metadata": {
    "collapsed": false
   },
   "outputs": [],
   "source": [
    "import pandas as pd\n",
    "import seaborn as sns\n",
    "white_house = pd.read_csv(\"2015_white_house.csv\")\n"
   ]
  },
  {
   "cell_type": "code",
   "execution_count": 47,
   "metadata": {
    "collapsed": false
   },
   "outputs": [
    {
     "name": "stdout",
     "output_type": "stream",
     "text": [
      "No of rows and columns: (474, 5)\n"
     ]
    },
    {
     "data": {
      "text/html": [
       "<div>\n",
       "<table border=\"1\" class=\"dataframe\">\n",
       "  <thead>\n",
       "    <tr style=\"text-align: right;\">\n",
       "      <th></th>\n",
       "      <th>Name</th>\n",
       "      <th>Status</th>\n",
       "      <th>Salary</th>\n",
       "      <th>Pay Basis</th>\n",
       "      <th>Position Title</th>\n",
       "    </tr>\n",
       "  </thead>\n",
       "  <tbody>\n",
       "    <tr>\n",
       "      <th>0</th>\n",
       "      <td>Abdullah, Hasan A.</td>\n",
       "      <td>Detailee</td>\n",
       "      <td>105960</td>\n",
       "      <td>Per Annum</td>\n",
       "      <td>POLICY ADVISOR</td>\n",
       "    </tr>\n",
       "    <tr>\n",
       "      <th>1</th>\n",
       "      <td>Abraham, Sabey M.</td>\n",
       "      <td>Employee</td>\n",
       "      <td>55000</td>\n",
       "      <td>Per Annum</td>\n",
       "      <td>ENERGY AND ENVIRONMENT DIRECTOR FOR PRESIDENTI...</td>\n",
       "    </tr>\n",
       "    <tr>\n",
       "      <th>2</th>\n",
       "      <td>Abraham, Yohannes A.</td>\n",
       "      <td>Employee</td>\n",
       "      <td>121200</td>\n",
       "      <td>Per Annum</td>\n",
       "      <td>SPECIAL ASSISTANT TO THE PRESIDENT AND CHIEF O...</td>\n",
       "    </tr>\n",
       "    <tr>\n",
       "      <th>3</th>\n",
       "      <td>Abramson, Jerry E.</td>\n",
       "      <td>Employee</td>\n",
       "      <td>155035</td>\n",
       "      <td>Per Annum</td>\n",
       "      <td>DEPUTY ASSISTANT TO THE PRESIDENT AND DIRECTOR...</td>\n",
       "    </tr>\n",
       "    <tr>\n",
       "      <th>4</th>\n",
       "      <td>Adler, Caroline E.</td>\n",
       "      <td>Employee</td>\n",
       "      <td>114000</td>\n",
       "      <td>Per Annum</td>\n",
       "      <td>SPECIAL ASSISTANT TO THE PRESIDENT AND DIRECTO...</td>\n",
       "    </tr>\n",
       "  </tbody>\n",
       "</table>\n",
       "</div>"
      ],
      "text/plain": [
       "                   Name    Status  Salary  Pay Basis  \\\n",
       "0    Abdullah, Hasan A.  Detailee  105960  Per Annum   \n",
       "1     Abraham, Sabey M.  Employee   55000  Per Annum   \n",
       "2  Abraham, Yohannes A.  Employee  121200  Per Annum   \n",
       "3    Abramson, Jerry E.  Employee  155035  Per Annum   \n",
       "4    Adler, Caroline E.  Employee  114000  Per Annum   \n",
       "\n",
       "                                      Position Title  \n",
       "0                                     POLICY ADVISOR  \n",
       "1  ENERGY AND ENVIRONMENT DIRECTOR FOR PRESIDENTI...  \n",
       "2  SPECIAL ASSISTANT TO THE PRESIDENT AND CHIEF O...  \n",
       "3  DEPUTY ASSISTANT TO THE PRESIDENT AND DIRECTOR...  \n",
       "4  SPECIAL ASSISTANT TO THE PRESIDENT AND DIRECTO...  "
      ]
     },
     "execution_count": 47,
     "metadata": {},
     "output_type": "execute_result"
    }
   ],
   "source": [
    "print(\"No of rows and columns:\",white_house.shape)\n",
    "white_house.head()"
   ]
  },
  {
   "cell_type": "markdown",
   "metadata": {},
   "source": [
    "# Data\n",
    "The data contains the columns namely Name, Status, Salary, Pay Basis and Position Title.\n",
    "It has 474 rows."
   ]
  },
  {
   "cell_type": "markdown",
   "metadata": {
    "collapsed": false
   },
   "source": [
    "# Cleaning Data"
   ]
  },
  {
   "cell_type": "code",
   "execution_count": 48,
   "metadata": {
    "collapsed": false
   },
   "outputs": [
    {
     "name": "stdout",
     "output_type": "stream",
     "text": [
      "<class 'pandas.core.frame.DataFrame'>\n",
      "RangeIndex: 474 entries, 0 to 473\n",
      "Data columns (total 5 columns):\n",
      "Name              474 non-null object\n",
      "Status            474 non-null object\n",
      "Salary            474 non-null int64\n",
      "Pay Basis         474 non-null object\n",
      "Position Title    474 non-null object\n",
      "dtypes: int64(1), object(4)\n",
      "memory usage: 11.1+ KB\n"
     ]
    }
   ],
   "source": [
    "white_house.info()"
   ]
  },
  {
   "cell_type": "markdown",
   "metadata": {},
   "source": [
    "The data doesnt have any null values. "
   ]
  },
  {
   "cell_type": "code",
   "execution_count": 49,
   "metadata": {
    "collapsed": false
   },
   "outputs": [
    {
     "data": {
      "text/html": [
       "<div>\n",
       "<table border=\"1\" class=\"dataframe\">\n",
       "  <thead>\n",
       "    <tr style=\"text-align: right;\">\n",
       "      <th></th>\n",
       "      <th>Salary</th>\n",
       "    </tr>\n",
       "  </thead>\n",
       "  <tbody>\n",
       "    <tr>\n",
       "      <th>count</th>\n",
       "      <td>474.000000</td>\n",
       "    </tr>\n",
       "    <tr>\n",
       "      <th>mean</th>\n",
       "      <td>84864.124473</td>\n",
       "    </tr>\n",
       "    <tr>\n",
       "      <th>std</th>\n",
       "      <td>40391.454696</td>\n",
       "    </tr>\n",
       "    <tr>\n",
       "      <th>min</th>\n",
       "      <td>0.000000</td>\n",
       "    </tr>\n",
       "    <tr>\n",
       "      <th>25%</th>\n",
       "      <td>50500.000000</td>\n",
       "    </tr>\n",
       "    <tr>\n",
       "      <th>50%</th>\n",
       "      <td>70700.000000</td>\n",
       "    </tr>\n",
       "    <tr>\n",
       "      <th>75%</th>\n",
       "      <td>114870.000000</td>\n",
       "    </tr>\n",
       "    <tr>\n",
       "      <th>max</th>\n",
       "      <td>173922.000000</td>\n",
       "    </tr>\n",
       "  </tbody>\n",
       "</table>\n",
       "</div>"
      ],
      "text/plain": [
       "              Salary\n",
       "count     474.000000\n",
       "mean    84864.124473\n",
       "std     40391.454696\n",
       "min         0.000000\n",
       "25%     50500.000000\n",
       "50%     70700.000000\n",
       "75%    114870.000000\n",
       "max    173922.000000"
      ]
     },
     "execution_count": 49,
     "metadata": {},
     "output_type": "execute_result"
    }
   ],
   "source": [
    "white_house.describe()\n",
    "\n"
   ]
  },
  {
   "cell_type": "markdown",
   "metadata": {},
   "source": [
    "# Salary Column"
   ]
  },
  {
   "cell_type": "code",
   "execution_count": 50,
   "metadata": {
    "collapsed": false
   },
   "outputs": [
    {
     "data": {
      "image/png": "[encoded data removed]",
      "text/plain": [
       "<matplotlib.figure.Figure at 0x3d5ab70>"
      ]
     },
     "metadata": {},
     "output_type": "display_data"
    }
   ],
   "source": [
    "%matplotlib inline\n",
    "import matplotlib.pyplot as plt\n",
    "\n",
    "plt.hist(white_house[\"Salary\"])\n",
    "plt.axvline(84864, color=\"red\")\n",
    "plt.show()"
   ]
  },
  {
   "cell_type": "markdown",
   "metadata": {},
   "source": [
    "1. Loaded the csv file into pandas dataframe.\n",
    "2. Printed the first and the last entry in white_house.\n",
    "3. Plotted a histogram of the salary column in white_house."
   ]
  },
  {
   "cell_type": "markdown",
   "metadata": {},
   "source": [
    "Using cell, writing code, executing code and viewing result. "
   ]
  },
  {
   "cell_type": "code",
   "execution_count": 51,
   "metadata": {
    "collapsed": false
   },
   "outputs": [
    {
     "data": {
      "text/html": [
       "<div>\n",
       "<table border=\"1\" class=\"dataframe\">\n",
       "  <thead>\n",
       "    <tr style=\"text-align: right;\">\n",
       "      <th></th>\n",
       "      <th>Name</th>\n",
       "      <th>Status</th>\n",
       "      <th>Salary</th>\n",
       "      <th>Pay Basis</th>\n",
       "      <th>Position Title</th>\n",
       "    </tr>\n",
       "  </thead>\n",
       "  <tbody>\n",
       "    <tr>\n",
       "      <th>52</th>\n",
       "      <td>Breckenridge, Anita J.</td>\n",
       "      <td>Employee</td>\n",
       "      <td>173922</td>\n",
       "      <td>Per Annum</td>\n",
       "      <td>ASSISTANT TO THE PRESIDENT AND DEPUTY CHIEF OF...</td>\n",
       "    </tr>\n",
       "    <tr>\n",
       "      <th>70</th>\n",
       "      <td>Canegallo, Kristie A.</td>\n",
       "      <td>Employee</td>\n",
       "      <td>173922</td>\n",
       "      <td>Per Annum</td>\n",
       "      <td>ASSISTANT TO THE PRESIDENT AND DEPUTY CHIEF OF...</td>\n",
       "    </tr>\n",
       "    <tr>\n",
       "      <th>90</th>\n",
       "      <td>Cushman, Chase M.</td>\n",
       "      <td>Employee</td>\n",
       "      <td>173922</td>\n",
       "      <td>Per Annum</td>\n",
       "      <td>ASSISTANT TO THE PRESIDENT AND DIRECTOR OF SCH...</td>\n",
       "    </tr>\n",
       "    <tr>\n",
       "      <th>117</th>\n",
       "      <td>Earnest, Joshua R.</td>\n",
       "      <td>Employee</td>\n",
       "      <td>173922</td>\n",
       "      <td>Per Annum</td>\n",
       "      <td>ASSISTANT TO THE PRESIDENT AND PRESS SECRETARY</td>\n",
       "    </tr>\n",
       "    <tr>\n",
       "      <th>121</th>\n",
       "      <td>Eggleston, Warren N.</td>\n",
       "      <td>Employee</td>\n",
       "      <td>173922</td>\n",
       "      <td>Per Annum</td>\n",
       "      <td>ASSISTANT TO THE PRESIDENT AND COUNSEL TO THE ...</td>\n",
       "    </tr>\n",
       "    <tr>\n",
       "      <th>130</th>\n",
       "      <td>Fallon, Katherine B.</td>\n",
       "      <td>Employee</td>\n",
       "      <td>173922</td>\n",
       "      <td>Per Annum</td>\n",
       "      <td>ASSISTANT TO THE PRESIDENT AND DIRECTOR OF THE...</td>\n",
       "    </tr>\n",
       "    <tr>\n",
       "      <th>200</th>\n",
       "      <td>Jarrett, Valerie B.</td>\n",
       "      <td>Employee</td>\n",
       "      <td>173922</td>\n",
       "      <td>Per Annum</td>\n",
       "      <td>SENIOR ADVISOR AND ASSISTANT TO THE PRESIDENT ...</td>\n",
       "    </tr>\n",
       "    <tr>\n",
       "      <th>201</th>\n",
       "      <td>Johnson, Broderick D.</td>\n",
       "      <td>Employee</td>\n",
       "      <td>173922</td>\n",
       "      <td>Per Annum</td>\n",
       "      <td>ASSISTANT TO THE PRESIDENT AND CABINET SECRETARY</td>\n",
       "    </tr>\n",
       "    <tr>\n",
       "      <th>210</th>\n",
       "      <td>Kale, Katy A.</td>\n",
       "      <td>Employee</td>\n",
       "      <td>173922</td>\n",
       "      <td>Per Annum</td>\n",
       "      <td>ASSISTANT TO THE PRESIDENT FOR MANAGEMENT AND ...</td>\n",
       "    </tr>\n",
       "    <tr>\n",
       "      <th>216</th>\n",
       "      <td>Keenan, Cody S.</td>\n",
       "      <td>Employee</td>\n",
       "      <td>173922</td>\n",
       "      <td>Per Annum</td>\n",
       "      <td>ASSISTANT TO THE PRESIDENT AND DIRECTOR OF SPE...</td>\n",
       "    </tr>\n",
       "    <tr>\n",
       "      <th>280</th>\n",
       "      <td>McDonough, Denis R.</td>\n",
       "      <td>Employee</td>\n",
       "      <td>173922</td>\n",
       "      <td>Per Annum</td>\n",
       "      <td>ASSISTANT TO THE PRESIDENT AND CHIEF OF STAFF</td>\n",
       "    </tr>\n",
       "    <tr>\n",
       "      <th>297</th>\n",
       "      <td>Monaco, Lisa O.</td>\n",
       "      <td>Employee</td>\n",
       "      <td>173922</td>\n",
       "      <td>Per Annum</td>\n",
       "      <td>ASSISTANT TO THE PRESIDENT FOR HOMELAND SECURI...</td>\n",
       "    </tr>\n",
       "    <tr>\n",
       "      <th>304</th>\n",
       "      <td>Muñoz, Cecilia</td>\n",
       "      <td>Employee</td>\n",
       "      <td>173922</td>\n",
       "      <td>Per Annum</td>\n",
       "      <td>ASSISTANT TO THE PRESIDENT AND DIRECTOR OF THE...</td>\n",
       "    </tr>\n",
       "    <tr>\n",
       "      <th>358</th>\n",
       "      <td>Rhodes, Benjamin J.</td>\n",
       "      <td>Employee</td>\n",
       "      <td>173922</td>\n",
       "      <td>Per Annum</td>\n",
       "      <td>ASSISTANT TO THE PRESIDENT AND DEPUTY NATIONAL...</td>\n",
       "    </tr>\n",
       "    <tr>\n",
       "      <th>359</th>\n",
       "      <td>Rice, Susan E.</td>\n",
       "      <td>Employee</td>\n",
       "      <td>173922</td>\n",
       "      <td>Per Annum</td>\n",
       "      <td>ASSISTANT TO THE PRESIDENT AND NATIONAL SECURI...</td>\n",
       "    </tr>\n",
       "    <tr>\n",
       "      <th>403</th>\n",
       "      <td>Simas, David M.</td>\n",
       "      <td>Employee</td>\n",
       "      <td>173922</td>\n",
       "      <td>Per Annum</td>\n",
       "      <td>ASSISTANT TO THE PRESIDENT AND DIRECTOR OF THE...</td>\n",
       "    </tr>\n",
       "    <tr>\n",
       "      <th>426</th>\n",
       "      <td>Tchen, Christina M.</td>\n",
       "      <td>Employee</td>\n",
       "      <td>173922</td>\n",
       "      <td>Per Annum</td>\n",
       "      <td>ASSISTANT TO THE PRESIDENT AND CHIEF OF STAFF ...</td>\n",
       "    </tr>\n",
       "    <tr>\n",
       "      <th>473</th>\n",
       "      <td>Zients, Jeffrey D.</td>\n",
       "      <td>Employee</td>\n",
       "      <td>173922</td>\n",
       "      <td>Per Annum</td>\n",
       "      <td>ASSISTANT TO THE PRESIDENT FOR ECONOMIC POLICY...</td>\n",
       "    </tr>\n",
       "  </tbody>\n",
       "</table>\n",
       "</div>"
      ],
      "text/plain": [
       "                       Name    Status  Salary  Pay Basis  \\\n",
       "52   Breckenridge, Anita J.  Employee  173922  Per Annum   \n",
       "70    Canegallo, Kristie A.  Employee  173922  Per Annum   \n",
       "90        Cushman, Chase M.  Employee  173922  Per Annum   \n",
       "117      Earnest, Joshua R.  Employee  173922  Per Annum   \n",
       "121    Eggleston, Warren N.  Employee  173922  Per Annum   \n",
       "130   Fallon, Katherine B.   Employee  173922  Per Annum   \n",
       "200     Jarrett, Valerie B.  Employee  173922  Per Annum   \n",
       "201   Johnson, Broderick D.  Employee  173922  Per Annum   \n",
       "210           Kale, Katy A.  Employee  173922  Per Annum   \n",
       "216         Keenan, Cody S.  Employee  173922  Per Annum   \n",
       "280     McDonough, Denis R.  Employee  173922  Per Annum   \n",
       "297         Monaco, Lisa O.  Employee  173922  Per Annum   \n",
       "304         Muñoz, Cecilia   Employee  173922  Per Annum   \n",
       "358     Rhodes, Benjamin J.  Employee  173922  Per Annum   \n",
       "359          Rice, Susan E.  Employee  173922  Per Annum   \n",
       "403         Simas, David M.  Employee  173922  Per Annum   \n",
       "426     Tchen, Christina M.  Employee  173922  Per Annum   \n",
       "473      Zients, Jeffrey D.  Employee  173922  Per Annum   \n",
       "\n",
       "                                        Position Title  \n",
       "52   ASSISTANT TO THE PRESIDENT AND DEPUTY CHIEF OF...  \n",
       "70   ASSISTANT TO THE PRESIDENT AND DEPUTY CHIEF OF...  \n",
       "90   ASSISTANT TO THE PRESIDENT AND DIRECTOR OF SCH...  \n",
       "117     ASSISTANT TO THE PRESIDENT AND PRESS SECRETARY  \n",
       "121  ASSISTANT TO THE PRESIDENT AND COUNSEL TO THE ...  \n",
       "130  ASSISTANT TO THE PRESIDENT AND DIRECTOR OF THE...  \n",
       "200  SENIOR ADVISOR AND ASSISTANT TO THE PRESIDENT ...  \n",
       "201   ASSISTANT TO THE PRESIDENT AND CABINET SECRETARY  \n",
       "210  ASSISTANT TO THE PRESIDENT FOR MANAGEMENT AND ...  \n",
       "216  ASSISTANT TO THE PRESIDENT AND DIRECTOR OF SPE...  \n",
       "280      ASSISTANT TO THE PRESIDENT AND CHIEF OF STAFF  \n",
       "297  ASSISTANT TO THE PRESIDENT FOR HOMELAND SECURI...  \n",
       "304  ASSISTANT TO THE PRESIDENT AND DIRECTOR OF THE...  \n",
       "358  ASSISTANT TO THE PRESIDENT AND DEPUTY NATIONAL...  \n",
       "359  ASSISTANT TO THE PRESIDENT AND NATIONAL SECURI...  \n",
       "403  ASSISTANT TO THE PRESIDENT AND DIRECTOR OF THE...  \n",
       "426  ASSISTANT TO THE PRESIDENT AND CHIEF OF STAFF ...  \n",
       "473  ASSISTANT TO THE PRESIDENT FOR ECONOMIC POLICY...  "
      ]
     },
     "execution_count": 51,
     "metadata": {},
     "output_type": "execute_result"
    }
   ],
   "source": [
    "salary_max = white_house[\"Salary\"].max()\n",
    "df_salary_max = white_house[white_house[\"Salary\"]==salary_max]\n",
    "df_salary_max\n"
   ]
  },
  {
   "cell_type": "code",
   "execution_count": 52,
   "metadata": {
    "collapsed": false
   },
   "outputs": [
    {
     "name": "stdout",
     "output_type": "stream",
     "text": [
      "No of employees with maximum salary are 18\n"
     ]
    }
   ],
   "source": [
    "print(\"No of employees with maximum salary are {}\".format(df_salary_max.shape[0]))"
   ]
  },
  {
   "cell_type": "code",
   "execution_count": 53,
   "metadata": {
    "collapsed": false
   },
   "outputs": [
    {
     "data": {
      "text/html": [
       "<div>\n",
       "<table border=\"1\" class=\"dataframe\">\n",
       "  <thead>\n",
       "    <tr style=\"text-align: right;\">\n",
       "      <th></th>\n",
       "      <th>Name</th>\n",
       "      <th>Status</th>\n",
       "      <th>Salary</th>\n",
       "      <th>Pay Basis</th>\n",
       "      <th>Position Title</th>\n",
       "    </tr>\n",
       "  </thead>\n",
       "  <tbody>\n",
       "    <tr>\n",
       "      <th>235</th>\n",
       "      <td>Lamm, Garrett C.</td>\n",
       "      <td>Employee</td>\n",
       "      <td>41000</td>\n",
       "      <td>Per Annum</td>\n",
       "      <td>ANALYST</td>\n",
       "    </tr>\n",
       "  </tbody>\n",
       "</table>\n",
       "</div>"
      ],
      "text/plain": [
       "                 Name    Status  Salary  Pay Basis Position Title\n",
       "235  Lamm, Garrett C.  Employee   41000  Per Annum        ANALYST"
      ]
     },
     "execution_count": 53,
     "metadata": {},
     "output_type": "execute_result"
    }
   ],
   "source": [
    "salary_not_zero = white_house[white_house[\"Salary\"]!=0]\n",
    "salary_min = salary_not_zero[\"Salary\"].min()\n",
    "white_house[white_house[\"Salary\"]==41000]\n"
   ]
  },
  {
   "cell_type": "markdown",
   "metadata": {},
   "source": [
    "# Status Column"
   ]
  },
  {
   "cell_type": "code",
   "execution_count": 54,
   "metadata": {
    "collapsed": false
   },
   "outputs": [
    {
     "data": {
      "text/plain": [
       "Employee    438\n",
       "Detailee     36\n",
       "Name: Status, dtype: int64"
      ]
     },
     "execution_count": 54,
     "metadata": {},
     "output_type": "execute_result"
    }
   ],
   "source": [
    "white_house[\"Status\"].value_counts()"
   ]
  },
  {
   "cell_type": "code",
   "execution_count": 55,
   "metadata": {
    "collapsed": false
   },
   "outputs": [
    {
     "data": {
      "text/html": [
       "<div>\n",
       "<table border=\"1\" class=\"dataframe\">\n",
       "  <thead>\n",
       "    <tr style=\"text-align: right;\">\n",
       "      <th></th>\n",
       "      <th>Salary</th>\n",
       "    </tr>\n",
       "  </thead>\n",
       "  <tbody>\n",
       "    <tr>\n",
       "      <th>count</th>\n",
       "      <td>36.000000</td>\n",
       "    </tr>\n",
       "    <tr>\n",
       "      <th>mean</th>\n",
       "      <td>125287.222222</td>\n",
       "    </tr>\n",
       "    <tr>\n",
       "      <th>std</th>\n",
       "      <td>30666.265416</td>\n",
       "    </tr>\n",
       "    <tr>\n",
       "      <th>min</th>\n",
       "      <td>44492.000000</td>\n",
       "    </tr>\n",
       "    <tr>\n",
       "      <th>25%</th>\n",
       "      <td>113585.500000</td>\n",
       "    </tr>\n",
       "    <tr>\n",
       "      <th>50%</th>\n",
       "      <td>130453.000000</td>\n",
       "    </tr>\n",
       "    <tr>\n",
       "      <th>75%</th>\n",
       "      <td>139503.250000</td>\n",
       "    </tr>\n",
       "    <tr>\n",
       "      <th>max</th>\n",
       "      <td>171871.000000</td>\n",
       "    </tr>\n",
       "  </tbody>\n",
       "</table>\n",
       "</div>"
      ],
      "text/plain": [
       "              Salary\n",
       "count      36.000000\n",
       "mean   125287.222222\n",
       "std     30666.265416\n",
       "min     44492.000000\n",
       "25%    113585.500000\n",
       "50%    130453.000000\n",
       "75%    139503.250000\n",
       "max    171871.000000"
      ]
     },
     "execution_count": 55,
     "metadata": {},
     "output_type": "execute_result"
    }
   ],
   "source": [
    "detailee = white_house[white_house[\"Status\"]==\"Detailee\"]\n",
    "detailee.describe()"
   ]
  },
  {
   "cell_type": "code",
   "execution_count": 56,
   "metadata": {
    "collapsed": false
   },
   "outputs": [
    {
     "data": {
      "text/html": [
       "<div>\n",
       "<table border=\"1\" class=\"dataframe\">\n",
       "  <thead>\n",
       "    <tr style=\"text-align: right;\">\n",
       "      <th></th>\n",
       "      <th>Name</th>\n",
       "      <th>Status</th>\n",
       "      <th>Salary</th>\n",
       "      <th>Pay Basis</th>\n",
       "      <th>Position Title</th>\n",
       "    </tr>\n",
       "  </thead>\n",
       "  <tbody>\n",
       "    <tr>\n",
       "      <th>453</th>\n",
       "      <td>Walsh, James D.</td>\n",
       "      <td>Detailee</td>\n",
       "      <td>171871</td>\n",
       "      <td>Per Annum</td>\n",
       "      <td>ASSOCIATE COUNSEL</td>\n",
       "    </tr>\n",
       "  </tbody>\n",
       "</table>\n",
       "</div>"
      ],
      "text/plain": [
       "                Name    Status  Salary  Pay Basis     Position Title\n",
       "453  Walsh, James D.  Detailee  171871  Per Annum  ASSOCIATE COUNSEL"
      ]
     },
     "execution_count": 56,
     "metadata": {},
     "output_type": "execute_result"
    }
   ],
   "source": [
    "detailee[detailee[\"Salary\"]==171871]"
   ]
  },
  {
   "cell_type": "code",
   "execution_count": 57,
   "metadata": {
    "collapsed": false
   },
   "outputs": [
    {
     "data": {
      "text/html": [
       "<div>\n",
       "<table border=\"1\" class=\"dataframe\">\n",
       "  <thead>\n",
       "    <tr style=\"text-align: right;\">\n",
       "      <th></th>\n",
       "      <th>Name</th>\n",
       "      <th>Status</th>\n",
       "      <th>Salary</th>\n",
       "      <th>Pay Basis</th>\n",
       "      <th>Position Title</th>\n",
       "    </tr>\n",
       "  </thead>\n",
       "  <tbody>\n",
       "    <tr>\n",
       "      <th>315</th>\n",
       "      <td>Noor, Fatima M.</td>\n",
       "      <td>Detailee</td>\n",
       "      <td>44492</td>\n",
       "      <td>Per Annum</td>\n",
       "      <td>POLICY ASSISTANT</td>\n",
       "    </tr>\n",
       "  </tbody>\n",
       "</table>\n",
       "</div>"
      ],
      "text/plain": [
       "                Name    Status  Salary  Pay Basis    Position Title\n",
       "315  Noor, Fatima M.  Detailee   44492  Per Annum  POLICY ASSISTANT"
      ]
     },
     "execution_count": 57,
     "metadata": {},
     "output_type": "execute_result"
    }
   ],
   "source": [
    "detailee[detailee[\"Salary\"]==44492]"
   ]
  },
  {
   "cell_type": "markdown",
   "metadata": {
    "collapsed": false
   },
   "source": [
    "# Summary\n",
    "\n",
    "Total no of Employees = 474\n",
    "Mean Salary = 84864, Standard Deviation = 40391\n",
    "Overall Maximum Salary is 173922, There are 18 employees who draw the maximum salary.\n",
    "Overall Minimum Salary is 4100 if one does not include zero salary. It is drawn by Lamm, Garrett C. who works as an Analyst\n",
    "\n",
    "According to Status column there are two categories: Employees and Detailee.\n",
    "The maximum and minimum salary for Employees is same as the overall minimum and maximum. \n",
    "\n",
    "For Detailee the maximum salary which is 171871 is drawn by Walsh, James D. who works as an Associate Counsel. While the minimum salary which is 44492 is drawn by Noor, Fatima M. who works as a Policy Assistant"
   ]
  }
 ],
 "metadata": {
  "anaconda-cloud": {},
  "kernelspec": {
   "display_name": "Python [default]",
   "language": "python",
   "name": "python3"
  },
  "language_info": {
   "codemirror_mode": {
    "name": "ipython",
    "version": 3
   },
   "file_extension": ".py",
   "mimetype": "text/x-python",
   "name": "python",
   "nbconvert_exporter": "python",
   "pygments_lexer": "ipython3",
   "version": "3.5.2"
  }
 },
 "nbformat": 4,
 "nbformat_minor": 0
}
